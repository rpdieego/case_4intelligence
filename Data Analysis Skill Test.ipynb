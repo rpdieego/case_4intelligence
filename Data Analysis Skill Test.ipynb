{
 "cells": [
  {
   "cell_type": "markdown",
   "metadata": {},
   "source": [
    "# Data Analysis Skill Test - 4Intelligence"
   ]
  },
  {
   "cell_type": "markdown",
   "metadata": {},
   "source": [
    "*   Diego Rosa | 03/07/2020"
   ]
  },
  {
   "cell_type": "markdown",
   "metadata": {},
   "source": [
    "## Case 1 - TFP"
   ]
  },
  {
   "cell_type": "code",
   "execution_count": 8,
   "metadata": {},
   "outputs": [],
   "source": [
    "import pandas as pd"
   ]
  },
  {
   "cell_type": "code",
   "execution_count": 10,
   "metadata": {},
   "outputs": [],
   "source": [
    "tfp_df = pd.read_csv('TFP.csv')"
   ]
  },
  {
   "cell_type": "code",
   "execution_count": 11,
   "metadata": {},
   "outputs": [
    {
     "data": {
      "text/html": [
       "<div>\n",
       "<style scoped>\n",
       "    .dataframe tbody tr th:only-of-type {\n",
       "        vertical-align: middle;\n",
       "    }\n",
       "\n",
       "    .dataframe tbody tr th {\n",
       "        vertical-align: top;\n",
       "    }\n",
       "\n",
       "    .dataframe thead th {\n",
       "        text-align: right;\n",
       "    }\n",
       "</style>\n",
       "<table border=\"1\" class=\"dataframe\">\n",
       "  <thead>\n",
       "    <tr style=\"text-align: right;\">\n",
       "      <th></th>\n",
       "      <th>isocode</th>\n",
       "      <th>year</th>\n",
       "      <th>rtfpna</th>\n",
       "    </tr>\n",
       "  </thead>\n",
       "  <tbody>\n",
       "    <tr>\n",
       "      <th>0</th>\n",
       "      <td>USA</td>\n",
       "      <td>1950</td>\n",
       "      <td>0.617148</td>\n",
       "    </tr>\n",
       "    <tr>\n",
       "      <th>1</th>\n",
       "      <td>USA</td>\n",
       "      <td>1951</td>\n",
       "      <td>0.629588</td>\n",
       "    </tr>\n",
       "    <tr>\n",
       "      <th>2</th>\n",
       "      <td>USA</td>\n",
       "      <td>1952</td>\n",
       "      <td>0.638451</td>\n",
       "    </tr>\n",
       "    <tr>\n",
       "      <th>3</th>\n",
       "      <td>USA</td>\n",
       "      <td>1953</td>\n",
       "      <td>0.651858</td>\n",
       "    </tr>\n",
       "    <tr>\n",
       "      <th>4</th>\n",
       "      <td>USA</td>\n",
       "      <td>1954</td>\n",
       "      <td>0.646179</td>\n",
       "    </tr>\n",
       "  </tbody>\n",
       "</table>\n",
       "</div>"
      ],
      "text/plain": [
       "  isocode  year    rtfpna\n",
       "0     USA  1950  0.617148\n",
       "1     USA  1951  0.629588\n",
       "2     USA  1952  0.638451\n",
       "3     USA  1953  0.651858\n",
       "4     USA  1954  0.646179"
      ]
     },
     "execution_count": 11,
     "metadata": {},
     "output_type": "execute_result"
    }
   ],
   "source": [
    "tfp_df.head()"
   ]
  },
  {
   "cell_type": "markdown",
   "metadata": {},
   "source": [
    "## Case 2 - Comex"
   ]
  },
  {
   "cell_type": "code",
   "execution_count": 14,
   "metadata": {},
   "outputs": [],
   "source": [
    "import chardet"
   ]
  },
  {
   "cell_type": "code",
   "execution_count": 16,
   "metadata": {},
   "outputs": [],
   "source": [
    "with open('data_comexstat.csv','rb') as f:\n",
    "    result = chardet.detect(f.readline())"
   ]
  },
  {
   "cell_type": "code",
   "execution_count": 18,
   "metadata": {},
   "outputs": [],
   "source": [
    "comex_df = pd.read_csv('data_comexstat.csv', encoding='cp1252')"
   ]
  },
  {
   "cell_type": "code",
   "execution_count": 19,
   "metadata": {},
   "outputs": [
    {
     "data": {
      "text/html": [
       "<div>\n",
       "<style scoped>\n",
       "    .dataframe tbody tr th:only-of-type {\n",
       "        vertical-align: middle;\n",
       "    }\n",
       "\n",
       "    .dataframe tbody tr th {\n",
       "        vertical-align: top;\n",
       "    }\n",
       "\n",
       "    .dataframe thead th {\n",
       "        text-align: right;\n",
       "    }\n",
       "</style>\n",
       "<table border=\"1\" class=\"dataframe\">\n",
       "  <thead>\n",
       "    <tr style=\"text-align: right;\">\n",
       "      <th></th>\n",
       "      <th>date</th>\n",
       "      <th>product</th>\n",
       "      <th>state</th>\n",
       "      <th>country</th>\n",
       "      <th>type</th>\n",
       "      <th>route</th>\n",
       "      <th>tons</th>\n",
       "      <th>usd</th>\n",
       "    </tr>\n",
       "  </thead>\n",
       "  <tbody>\n",
       "    <tr>\n",
       "      <th>0</th>\n",
       "      <td>1997-01-01</td>\n",
       "      <td>corn</td>\n",
       "      <td>ES</td>\n",
       "      <td>United States</td>\n",
       "      <td>Import</td>\n",
       "      <td>Sea</td>\n",
       "      <td>44.045</td>\n",
       "      <td>113029.0</td>\n",
       "    </tr>\n",
       "    <tr>\n",
       "      <th>1</th>\n",
       "      <td>1997-01-01</td>\n",
       "      <td>corn</td>\n",
       "      <td>GO</td>\n",
       "      <td>Argentina</td>\n",
       "      <td>Import</td>\n",
       "      <td>Ground</td>\n",
       "      <td>54.000</td>\n",
       "      <td>36720.0</td>\n",
       "    </tr>\n",
       "    <tr>\n",
       "      <th>2</th>\n",
       "      <td>1997-01-01</td>\n",
       "      <td>corn</td>\n",
       "      <td>GO</td>\n",
       "      <td>Bolivia</td>\n",
       "      <td>Export</td>\n",
       "      <td>Ground</td>\n",
       "      <td>0.200</td>\n",
       "      <td>180.0</td>\n",
       "    </tr>\n",
       "    <tr>\n",
       "      <th>3</th>\n",
       "      <td>1997-01-01</td>\n",
       "      <td>corn</td>\n",
       "      <td>GO</td>\n",
       "      <td>United States</td>\n",
       "      <td>Export</td>\n",
       "      <td>Sea</td>\n",
       "      <td>3.488</td>\n",
       "      <td>5688.0</td>\n",
       "    </tr>\n",
       "    <tr>\n",
       "      <th>4</th>\n",
       "      <td>1997-01-01</td>\n",
       "      <td>corn</td>\n",
       "      <td>MG</td>\n",
       "      <td>Argentina</td>\n",
       "      <td>Import</td>\n",
       "      <td>Ground</td>\n",
       "      <td>27.000</td>\n",
       "      <td>18630.0</td>\n",
       "    </tr>\n",
       "    <tr>\n",
       "      <th>...</th>\n",
       "      <td>...</td>\n",
       "      <td>...</td>\n",
       "      <td>...</td>\n",
       "      <td>...</td>\n",
       "      <td>...</td>\n",
       "      <td>...</td>\n",
       "      <td>...</td>\n",
       "      <td>...</td>\n",
       "    </tr>\n",
       "    <tr>\n",
       "      <th>117960</th>\n",
       "      <td>2019-12-01</td>\n",
       "      <td>wheat</td>\n",
       "      <td>SP</td>\n",
       "      <td>Argentina</td>\n",
       "      <td>Import</td>\n",
       "      <td>Sea</td>\n",
       "      <td>87124.765</td>\n",
       "      <td>17897516.0</td>\n",
       "    </tr>\n",
       "    <tr>\n",
       "      <th>117961</th>\n",
       "      <td>2019-12-01</td>\n",
       "      <td>wheat</td>\n",
       "      <td>SP</td>\n",
       "      <td>Ireland</td>\n",
       "      <td>Export</td>\n",
       "      <td>Sea</td>\n",
       "      <td>0.500</td>\n",
       "      <td>477.0</td>\n",
       "    </tr>\n",
       "    <tr>\n",
       "      <th>117962</th>\n",
       "      <td>2019-12-01</td>\n",
       "      <td>wheat</td>\n",
       "      <td>SP</td>\n",
       "      <td>Lebanon</td>\n",
       "      <td>Import</td>\n",
       "      <td>Sea</td>\n",
       "      <td>5.769</td>\n",
       "      <td>6726.0</td>\n",
       "    </tr>\n",
       "    <tr>\n",
       "      <th>117963</th>\n",
       "      <td>2019-12-01</td>\n",
       "      <td>wheat</td>\n",
       "      <td>SP</td>\n",
       "      <td>Liberia</td>\n",
       "      <td>Export</td>\n",
       "      <td>Other</td>\n",
       "      <td>0.025</td>\n",
       "      <td>50.0</td>\n",
       "    </tr>\n",
       "    <tr>\n",
       "      <th>117964</th>\n",
       "      <td>2019-12-01</td>\n",
       "      <td>wheat</td>\n",
       "      <td>SP</td>\n",
       "      <td>Marshall Islands</td>\n",
       "      <td>Export</td>\n",
       "      <td>Other</td>\n",
       "      <td>0.010</td>\n",
       "      <td>85.0</td>\n",
       "    </tr>\n",
       "  </tbody>\n",
       "</table>\n",
       "<p>117965 rows × 8 columns</p>\n",
       "</div>"
      ],
      "text/plain": [
       "              date product state           country    type   route       tons  \\\n",
       "0       1997-01-01    corn    ES     United States  Import     Sea     44.045   \n",
       "1       1997-01-01    corn    GO         Argentina  Import  Ground     54.000   \n",
       "2       1997-01-01    corn    GO           Bolivia  Export  Ground      0.200   \n",
       "3       1997-01-01    corn    GO     United States  Export     Sea      3.488   \n",
       "4       1997-01-01    corn    MG         Argentina  Import  Ground     27.000   \n",
       "...            ...     ...   ...               ...     ...     ...        ...   \n",
       "117960  2019-12-01   wheat    SP         Argentina  Import     Sea  87124.765   \n",
       "117961  2019-12-01   wheat    SP           Ireland  Export     Sea      0.500   \n",
       "117962  2019-12-01   wheat    SP           Lebanon  Import     Sea      5.769   \n",
       "117963  2019-12-01   wheat    SP           Liberia  Export   Other      0.025   \n",
       "117964  2019-12-01   wheat    SP  Marshall Islands  Export   Other      0.010   \n",
       "\n",
       "               usd  \n",
       "0         113029.0  \n",
       "1          36720.0  \n",
       "2            180.0  \n",
       "3           5688.0  \n",
       "4          18630.0  \n",
       "...            ...  \n",
       "117960  17897516.0  \n",
       "117961       477.0  \n",
       "117962      6726.0  \n",
       "117963        50.0  \n",
       "117964        85.0  \n",
       "\n",
       "[117965 rows x 8 columns]"
      ]
     },
     "execution_count": 19,
     "metadata": {},
     "output_type": "execute_result"
    }
   ],
   "source": [
    "comex_df "
   ]
  },
  {
   "cell_type": "code",
   "execution_count": null,
   "metadata": {},
   "outputs": [],
   "source": []
  }
 ],
 "metadata": {
  "kernelspec": {
   "display_name": "Python 3",
   "language": "python",
   "name": "python3"
  },
  "language_info": {
   "codemirror_mode": {
    "name": "ipython",
    "version": 3
   },
   "file_extension": ".py",
   "mimetype": "text/x-python",
   "name": "python",
   "nbconvert_exporter": "python",
   "pygments_lexer": "ipython3",
   "version": "3.7.6"
  }
 },
 "nbformat": 4,
 "nbformat_minor": 4
}
